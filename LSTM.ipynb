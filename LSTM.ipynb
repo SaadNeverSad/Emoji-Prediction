{
 "cells": [
  {
   "cell_type": "markdown",
   "metadata": {
    "colab_type": "text",
    "id": "ql9FhvCBSzwC"
   },
   "source": [
    "# Initialization\n",
    "\n"
   ]
  },
  {
   "cell_type": "code",
   "execution_count": null,
   "metadata": {
    "colab": {},
    "colab_type": "code",
    "id": "3uxrv6s-UF-1"
   },
   "outputs": [],
   "source": [
    "%matplotlib inline"
   ]
  },
  {
   "cell_type": "code",
   "execution_count": null,
   "metadata": {
    "colab": {},
    "colab_type": "code",
    "id": "jo68zgClAq_0"
   },
   "outputs": [],
   "source": [
    "!pip install -q pyspellchecker"
   ]
  },
  {
   "cell_type": "code",
   "execution_count": null,
   "metadata": {
    "colab": {},
    "colab_type": "code",
    "id": "5Z97uYquWPwM"
   },
   "outputs": [],
   "source": [
    "import numpy as np\n",
    "import pandas as pd\n",
    "import re\n",
    "import nltk\n",
    "from nltk.corpus import stopwords\n",
    "\n",
    "#from spellchecker import SpellChecker\n",
    "\n",
    "import keras\n",
    "from keras.preprocessing.text import Tokenizer\n",
    "from keras.preprocessing.sequence import pad_sequences\n",
    "from keras.models import Sequential\n",
    "from keras.layers import Dense, Dropout, Activation, Embedding, LSTM, Bidirectional\n",
    "from keras.utils import np_utils"
   ]
  },
  {
   "cell_type": "code",
   "execution_count": null,
   "metadata": {
    "colab": {},
    "colab_type": "code",
    "id": "2TXInHTB70ul"
   },
   "outputs": [],
   "source": [
    "nltk.download('stopwords')"
   ]
  },
  {
   "cell_type": "code",
   "execution_count": null,
   "metadata": {
    "colab": {},
    "colab_type": "code",
    "id": "09ls1wEbWena"
   },
   "outputs": [],
   "source": [
    "from google.colab import drive\n",
    "drive.mount('/content/drive')"
   ]
  },
  {
   "cell_type": "markdown",
   "metadata": {
    "colab_type": "text",
    "id": "pYDBQPKjWPxF"
   },
   "source": [
    "# Loading the data"
   ]
  },
  {
   "cell_type": "markdown",
   "metadata": {
    "colab_type": "text",
    "id": "CW5a1w8pHleZ"
   },
   "source": [
    "Training data"
   ]
  },
  {
   "cell_type": "code",
   "execution_count": null,
   "metadata": {
    "colab": {},
    "colab_type": "code",
    "id": "3EFAqwCiWPxH"
   },
   "outputs": [],
   "source": [
    "f = open('/content/drive/My Drive/Projects/Premoji/Data/Train/tweets.txt.text', 'r')\n",
    "#tweets_train = f.readlines()[:50000] # using 10% of the actual data for fast training#\n",
    "tweets_train = f.readlines()\n",
    "f.close()"
   ]
  },
  {
   "cell_type": "code",
   "execution_count": null,
   "metadata": {
    "colab": {},
    "colab_type": "code",
    "id": "GYHHskfa9WIn"
   },
   "outputs": [],
   "source": [
    "f = open('/content/drive/My Drive/Projects/Premoji/Data/Train/tweets.txt.labels', 'r')\n",
    "#labels_train = f.readlines()[:50000] # using 10% of the actual data for fast training\n",
    "labels_train = f.readlines()\n",
    "f.close"
   ]
  },
  {
   "cell_type": "code",
   "execution_count": null,
   "metadata": {
    "colab": {},
    "colab_type": "code",
    "id": "J6F2b5XY9leA"
   },
   "outputs": [],
   "source": [
    "y_train = np_utils.to_categorical([int(l.strip()) for l in labels_train], 20)"
   ]
  },
  {
   "cell_type": "markdown",
   "metadata": {
    "colab_type": "text",
    "id": "U_3tPGeHHn21"
   },
   "source": [
    "Test data"
   ]
  },
  {
   "cell_type": "code",
   "execution_count": null,
   "metadata": {
    "colab": {},
    "colab_type": "code",
    "id": "pYrC8YNXHkuv"
   },
   "outputs": [],
   "source": [
    "f = open('/content/drive/My Drive/Projects/Premoji/Data/Test/us_test.text', 'r')\n",
    "tweets_test = f.readlines()\n",
    "f.close()"
   ]
  },
  {
   "cell_type": "code",
   "execution_count": null,
   "metadata": {
    "colab": {},
    "colab_type": "code",
    "id": "IwQVr8STIJD0"
   },
   "outputs": [],
   "source": [
    "f = open('/content/drive/My Drive/Projects/Premoji/Data/Test/us_test.labels', 'r')\n",
    "labels_test = f.readlines()\n",
    "f.close"
   ]
  },
  {
   "cell_type": "code",
   "execution_count": null,
   "metadata": {
    "colab": {},
    "colab_type": "code",
    "id": "NMDFSpH2IJD2"
   },
   "outputs": [],
   "source": [
    "y_test = np_utils.to_categorical([int(l.strip()) for l in labels_test], 20)"
   ]
  },
  {
   "cell_type": "markdown",
   "metadata": {
    "colab_type": "text",
    "id": "8siqD9gMWPxQ"
   },
   "source": [
    "# Preprocessing the text"
   ]
  },
  {
   "cell_type": "markdown",
   "metadata": {
    "colab_type": "text",
    "id": "PRZZzB5FmTbg"
   },
   "source": [
    "## Cleaning the text"
   ]
  },
  {
   "cell_type": "code",
   "execution_count": null,
   "metadata": {
    "colab": {},
    "colab_type": "code",
    "id": "DaDSHY4yDZpB"
   },
   "outputs": [],
   "source": [
    "def clean_tweets(tweets):\n",
    "  # Stripping away location for the end of tweets\n",
    "  p = re.compile(r'\\s*@ .*$')\n",
    "  tweets_1 = [p.sub('', tweet) for tweet in tweets]\n",
    "  \n",
    "  # Removing @user mentions\n",
    "  tweets_2 = [tweet.replace('@user', '') for tweet in tweets_1]\n",
    "  \n",
    "  # Removing stopwords\n",
    "  # stop_words = set(stopwords.words('english'))\n",
    "\n",
    "  # tweets_3 = []\n",
    "\n",
    "  # for tweet in tweets_2:\n",
    "  #   res = ''\n",
    "  #   for w in tweet.split():\n",
    "  #     if w.lower() not in stop_words:\n",
    "  #       res = res+w+' '\n",
    "  #   tweets_3.append(res)\n",
    "    \n",
    "  # Removing unicode characters\n",
    "  tweets_4 = [(tweet.encode('ascii', 'ignore')).decode(\"utf-8\") for tweet in tweets_2]\n",
    "  \n",
    "  return tweets_4\n",
    "  \n",
    "  # Spell checking\n",
    "#   spell = SpellChecker()\n",
    "  \n",
    "#   tweets_5 = []\n",
    "\n",
    "#   for tweet in tweets_4:\n",
    "#     res = ''\n",
    "#     for w in tweet.split():\n",
    "#       correction = spell.correction(w.lower())\n",
    "#       res = res+correction+' '\n",
    "#       print(w+\";\"+correction)\n",
    "#     tweets_5.append(res)\n",
    "    \n",
    "#   return tweets_5"
   ]
  },
  {
   "cell_type": "markdown",
   "metadata": {
    "colab_type": "text",
    "id": "DBgV5L4WGpZT"
   },
   "source": [
    "Cleaning training data"
   ]
  },
  {
   "cell_type": "code",
   "execution_count": null,
   "metadata": {
    "colab": {},
    "colab_type": "code",
    "id": "f2tULFDbFCL9"
   },
   "outputs": [],
   "source": [
    "tweets_train = clean_tweets(tweets_train)"
   ]
  },
  {
   "cell_type": "markdown",
   "metadata": {
    "colab_type": "text",
    "id": "xvNqoXy9GsdR"
   },
   "source": [
    "Cleaning test data"
   ]
  },
  {
   "cell_type": "code",
   "execution_count": null,
   "metadata": {
    "colab": {},
    "colab_type": "code",
    "id": "XG84DBHjGvgw"
   },
   "outputs": [],
   "source": [
    "tweets_test = clean_tweets(tweets_test)"
   ]
  },
  {
   "cell_type": "markdown",
   "metadata": {
    "colab_type": "text",
    "id": "iY0T15EVWPxT"
   },
   "source": [
    "## Tokenizing the text"
   ]
  },
  {
   "cell_type": "code",
   "execution_count": null,
   "metadata": {
    "colab": {},
    "colab_type": "code",
    "id": "UZR47br4WPxU"
   },
   "outputs": [],
   "source": [
    "# vocab_size = 50000\n",
    "# tokenizer = Tokenizer(filters='!\"#$%&()*+,-./:;<=>?@[\\\\]^_`{|}~\\t\\n', num_words=vocab_size, oov_token=\"UNK\")\n",
    "tokenizer = Tokenizer(filters='!\"#$%&()*+,-./:;<=>?@[\\\\]^_`{|}~\\t\\n') # No vocab limit\n",
    "tokenizer.fit_on_texts(texts=tweets_train)"
   ]
  },
  {
   "cell_type": "code",
   "execution_count": null,
   "metadata": {
    "cellView": "both",
    "colab": {},
    "colab_type": "code",
    "collapsed": true,
    "id": "2PZ0pZ6eWPxa",
    "jupyter": {
     "outputs_hidden": true
    }
   },
   "outputs": [],
   "source": [
    "#tokenizer.get_config()"
   ]
  },
  {
   "cell_type": "markdown",
   "metadata": {
    "colab_type": "text",
    "id": "_5b6lEojWPyU"
   },
   "source": [
    "Encoding and adding a padding to the training data"
   ]
  },
  {
   "cell_type": "code",
   "execution_count": null,
   "metadata": {
    "colab": {},
    "colab_type": "code",
    "id": "YFF8fhqcWPyW"
   },
   "outputs": [],
   "source": [
    "tokenized_train = tokenizer.texts_to_sequences(tweets_train)\n",
    "x_train = pad_sequences(tokenized_train, padding='post')"
   ]
  },
  {
   "cell_type": "markdown",
   "metadata": {
    "colab_type": "text",
    "id": "gUW8kzKcO-Wz"
   },
   "source": [
    "Retrieving unified vector length after padding"
   ]
  },
  {
   "cell_type": "code",
   "execution_count": null,
   "metadata": {
    "colab": {},
    "colab_type": "code",
    "id": "oJH-7NbAOkVF"
   },
   "outputs": [],
   "source": [
    "maxlen = len(x_train[0])"
   ]
  },
  {
   "cell_type": "markdown",
   "metadata": {
    "colab_type": "text",
    "id": "m4IpvsqOImJy"
   },
   "source": [
    "Encoding and adding a padding to the test\n",
    "data"
   ]
  },
  {
   "cell_type": "code",
   "execution_count": null,
   "metadata": {
    "colab": {},
    "colab_type": "code",
    "id": "vPlJ4ggoIwk6"
   },
   "outputs": [],
   "source": [
    "tokenized_test = tokenizer.texts_to_sequences(tweets_test)\n",
    "x_test = pad_sequences(tokenized_test, padding='post', maxlen=maxlen)"
   ]
  },
  {
   "cell_type": "markdown",
   "metadata": {
    "colab_type": "text",
    "id": "SXPTULUR7488"
   },
   "source": [
    "Computing vocabulary size when no limit is set"
   ]
  },
  {
   "cell_type": "code",
   "execution_count": null,
   "metadata": {
    "colab": {},
    "colab_type": "code",
    "id": "IWg5czNH74Ve"
   },
   "outputs": [],
   "source": [
    "vocab_size = len(tokenizer.word_index)"
   ]
  },
  {
   "cell_type": "markdown",
   "metadata": {
    "colab_type": "text",
    "id": "jS-9CnJ4G-Gp"
   },
   "source": [
    "# Word2vec"
   ]
  },
  {
   "cell_type": "markdown",
   "metadata": {
    "colab_type": "text",
    "id": "IrTmfDYdLHTk"
   },
   "source": [
    "## Untrained"
   ]
  },
  {
   "cell_type": "markdown",
   "metadata": {
    "colab_type": "text",
    "id": "emzoMXn-O0jB"
   },
   "source": [
    "Importing word2vec"
   ]
  },
  {
   "cell_type": "code",
   "execution_count": null,
   "metadata": {
    "colab": {},
    "colab_type": "code",
    "id": "rw5_0w36G_jn"
   },
   "outputs": [],
   "source": [
    "from gensim.models import Word2Vec"
   ]
  },
  {
   "cell_type": "markdown",
   "metadata": {
    "colab_type": "text",
    "id": "1qYcODYjPGU8"
   },
   "source": [
    "Training the embedding"
   ]
  },
  {
   "cell_type": "code",
   "execution_count": null,
   "metadata": {
    "colab": {},
    "colab_type": "code",
    "id": "jcUwHB2LPR58"
   },
   "outputs": [],
   "source": [
    "sentences = [sentence.split() for sentence in tokenizer.sequences_to_texts(tokenized_train)]"
   ]
  },
  {
   "cell_type": "code",
   "execution_count": null,
   "metadata": {
    "colab": {},
    "colab_type": "code",
    "id": "7I-bHPdwO7X2"
   },
   "outputs": [],
   "source": [
    "w2v = Word2Vec(sentences=sentences, size=200, window=5, workers=4, min_count=1)"
   ]
  },
  {
   "cell_type": "code",
   "execution_count": null,
   "metadata": {
    "colab": {},
    "colab_type": "code",
    "id": "UBXxxoGF2v93"
   },
   "outputs": [],
   "source": [
    "#embedding = model.wv.get_keras_embedding()"
   ]
  },
  {
   "cell_type": "code",
   "execution_count": null,
   "metadata": {
    "colab": {},
    "colab_type": "code",
    "id": "pyXPf3pABCct"
   },
   "outputs": [],
   "source": [
    "from numpy import zeros\n",
    "\n",
    "embedding_matrix = zeros((vocab_size+1, 200))\n",
    "for word, i in tokenizer.word_index.items():\n",
    "  try:\n",
    "    embedding_vector = w2v.wv.get_vector(word)\n",
    "  except:\n",
    "    continue\n",
    "  embedding_matrix[i] = embedding_vector"
   ]
  },
  {
   "cell_type": "markdown",
   "metadata": {
    "colab_type": "text",
    "id": "iback0rRLbaC"
   },
   "source": [
    "## Pretrained"
   ]
  },
  {
   "cell_type": "code",
   "execution_count": null,
   "metadata": {
    "colab": {},
    "colab_type": "code",
    "id": "VZWzi5HpLemX"
   },
   "outputs": [],
   "source": [
    "from gensim.models import KeyedVectors"
   ]
  },
  {
   "cell_type": "code",
   "execution_count": null,
   "metadata": {
    "colab": {},
    "colab_type": "code",
    "id": "xI9YgpevLgKY"
   },
   "outputs": [],
   "source": [
    "wv = KeyedVectors.load_word2vec_format('/content/drive/My Drive/Projects/Premoji/word2vec_twitter_model.bin', binary=True, unicode_errors='ignore')"
   ]
  },
  {
   "cell_type": "code",
   "execution_count": null,
   "metadata": {
    "colab": {},
    "colab_type": "code",
    "id": "qqiQE2RkVig-"
   },
   "outputs": [],
   "source": [
    "from numpy import zeros\n",
    "\n",
    "embedding_matrix = zeros((vocab_size+1, 400))\n",
    "for word, i in tokenizer.word_index.items():\n",
    "  try:\n",
    "    embedding_vector = wv.get_vector(word)\n",
    "  except:\n",
    "    continue\n",
    "  embedding_matrix[i] = embedding_vector"
   ]
  },
  {
   "cell_type": "markdown",
   "metadata": {
    "colab_type": "text",
    "id": "7RvOFx4mWPyk"
   },
   "source": [
    "# Training the model"
   ]
  },
  {
   "cell_type": "markdown",
   "metadata": {
    "colab_type": "text",
    "id": "SV0DkThk51Zq"
   },
   "source": [
    "Building the model"
   ]
  },
  {
   "cell_type": "code",
   "execution_count": null,
   "metadata": {
    "colab": {},
    "colab_type": "code",
    "id": "4BOnJI4vWPyl"
   },
   "outputs": [],
   "source": [
    "model = Sequential()"
   ]
  },
  {
   "cell_type": "code",
   "execution_count": null,
   "metadata": {
    "colab": {},
    "colab_type": "code",
    "id": "a__sajAZhUV8"
   },
   "outputs": [],
   "source": [
    "#model.add(Embedding(input_dim=vocab_size, output_dim=200))\n",
    "model.add(Embedding(input_dim=vocab_size+1, output_dim=200, weights=[embedding_matrix], trainable=False))\n",
    "model.add(LSTM(100))\n",
    "#model.add(Dropout(rate=0.5))\n",
    "model.add(Dense(20, activation='softmax'))"
   ]
  },
  {
   "cell_type": "code",
   "execution_count": null,
   "metadata": {
    "colab": {},
    "colab_type": "code",
    "id": "TRw_7a335_p9"
   },
   "outputs": [],
   "source": [
    "model.compile(loss='categorical_crossentropy',\n",
    "             optimizer='rmsprop',\n",
    "             metrics=['accuracy'])"
   ]
  },
  {
   "cell_type": "markdown",
   "metadata": {
    "colab_type": "text",
    "id": "FpLiXZvt72R2"
   },
   "source": [
    "Training the model"
   ]
  },
  {
   "cell_type": "code",
   "execution_count": 26,
   "metadata": {
    "colab": {
     "base_uri": "https://localhost:8080/",
     "height": 527
    },
    "colab_type": "code",
    "id": "7lh8f2Xy74pr",
    "outputId": "3ab053dc-4526-4d38-9731-6ff7b104689e"
   },
   "outputs": [
    {
     "name": "stdout",
     "output_type": "stream",
     "text": [
      "WARNING:tensorflow:From /usr/local/lib/python3.6/dist-packages/tensorflow_core/python/ops/math_grad.py:1424: where (from tensorflow.python.ops.array_ops) is deprecated and will be removed in a future version.\n",
      "Instructions for updating:\n",
      "Use tf.where in 2.0, which has the same broadcast rule as np.where\n",
      "WARNING:tensorflow:From /usr/local/lib/python3.6/dist-packages/keras/backend/tensorflow_backend.py:1033: The name tf.assign_add is deprecated. Please use tf.compat.v1.assign_add instead.\n",
      "\n",
      "WARNING:tensorflow:From /usr/local/lib/python3.6/dist-packages/keras/backend/tensorflow_backend.py:1020: The name tf.assign is deprecated. Please use tf.compat.v1.assign instead.\n",
      "\n",
      "Train on 340005 samples, validate on 145717 samples\n",
      "Epoch 1/10\n",
      "340005/340005 [==============================] - 727s 2ms/step - loss: 2.0640 - acc: 0.3824 - val_loss: 1.9813 - val_acc: 0.4055\n",
      "Epoch 2/10\n",
      "340005/340005 [==============================] - 719s 2ms/step - loss: 1.9391 - acc: 0.4173 - val_loss: 1.9097 - val_acc: 0.4257\n",
      "Epoch 3/10\n",
      "340005/340005 [==============================] - 712s 2ms/step - loss: 1.8922 - acc: 0.4298 - val_loss: 1.8744 - val_acc: 0.4343\n",
      "Epoch 4/10\n",
      "340005/340005 [==============================] - 715s 2ms/step - loss: 1.8638 - acc: 0.4370 - val_loss: 1.8653 - val_acc: 0.4372\n",
      "Epoch 5/10\n",
      "340005/340005 [==============================] - 715s 2ms/step - loss: 1.8428 - acc: 0.4424 - val_loss: 1.8590 - val_acc: 0.4383\n",
      "Epoch 6/10\n",
      "340005/340005 [==============================] - 709s 2ms/step - loss: 1.8248 - acc: 0.4475 - val_loss: 1.8396 - val_acc: 0.4439\n",
      "Epoch 7/10\n",
      "340005/340005 [==============================] - 710s 2ms/step - loss: 1.8092 - acc: 0.4515 - val_loss: 1.8414 - val_acc: 0.4455\n",
      "Epoch 8/10\n",
      "340005/340005 [==============================] - 705s 2ms/step - loss: 1.7972 - acc: 0.4552 - val_loss: 1.8423 - val_acc: 0.4458\n",
      "Epoch 9/10\n",
      "340005/340005 [==============================] - 703s 2ms/step - loss: 1.7847 - acc: 0.4591 - val_loss: 1.8283 - val_acc: 0.4475\n",
      "Epoch 10/10\n",
      "340005/340005 [==============================] - 712s 2ms/step - loss: 1.7743 - acc: 0.4612 - val_loss: 1.8266 - val_acc: 0.4472\n"
     ]
    }
   ],
   "source": [
    "history = model.fit(x_train, y_train,\n",
    "         validation_split=0.3, epochs=10, batch_size=32)"
   ]
  },
  {
   "cell_type": "markdown",
   "metadata": {
    "colab_type": "text",
    "id": "vVzvQqbzKMkP"
   },
   "source": [
    "# Evaluation"
   ]
  },
  {
   "cell_type": "code",
   "execution_count": 27,
   "metadata": {
    "colab": {
     "base_uri": "https://localhost:8080/",
     "height": 34
    },
    "colab_type": "code",
    "id": "SERkusxtKMWt",
    "outputId": "9a79dd8c-23be-43a8-bea2-5dc684872798"
   },
   "outputs": [
    {
     "name": "stdout",
     "output_type": "stream",
     "text": [
      "50000/50000 [==============================] - 26s 523us/step\n"
     ]
    }
   ],
   "source": [
    "loss, accuracy = model.evaluate(x_test, y_test)"
   ]
  },
  {
   "cell_type": "markdown",
   "metadata": {
    "colab_type": "text",
    "id": "LWmZXFgKKZXa"
   },
   "source": [
    "Results :"
   ]
  },
  {
   "cell_type": "code",
   "execution_count": 28,
   "metadata": {
    "colab": {
     "base_uri": "https://localhost:8080/",
     "height": 52
    },
    "colab_type": "code",
    "id": "gdQE9kRRKcL-",
    "outputId": "6ddc257e-e7ab-4782-f8e1-0cb8c9fbd8e1"
   },
   "outputs": [
    {
     "name": "stdout",
     "output_type": "stream",
     "text": [
      "Loss : 1.966502338180542\n",
      "Accuracy : 0.41782\n"
     ]
    }
   ],
   "source": [
    "print('Loss :', loss)\n",
    "print('Accuracy :', accuracy)"
   ]
  },
  {
   "cell_type": "markdown",
   "metadata": {
    "colab_type": "text",
    "id": "zQEAU4tdAVFz"
   },
   "source": [
    "Using the model to predict the test set results"
   ]
  },
  {
   "cell_type": "code",
   "execution_count": null,
   "metadata": {
    "colab": {},
    "colab_type": "code",
    "id": "VhcW6ywzdYSG"
   },
   "outputs": [],
   "source": [
    "y_true = [int(l.strip()) for l in labels_test]\n",
    "y_pred = model.predict_classes(x_test)"
   ]
  },
  {
   "cell_type": "markdown",
   "metadata": {
    "colab_type": "text",
    "id": "wEeHGEIV_xXQ"
   },
   "source": [
    "## Classification report"
   ]
  },
  {
   "cell_type": "code",
   "execution_count": null,
   "metadata": {
    "colab": {},
    "colab_type": "code",
    "id": "rUzkWC7F_7NL"
   },
   "outputs": [],
   "source": [
    "from sklearn.metrics import classification_report"
   ]
  },
  {
   "cell_type": "code",
   "execution_count": null,
   "metadata": {
    "colab": {},
    "colab_type": "code",
    "id": "D5cKSXxpAxyW"
   },
   "outputs": [],
   "source": [
    "target_names = ['❤','😍','😂','💕','🔥','😊','😎','✨','💙','😘','📷','🇺🇸','☀','💜','😉','💯','😁','🎄','📸','😜']"
   ]
  },
  {
   "cell_type": "code",
   "execution_count": 32,
   "metadata": {
    "colab": {
     "base_uri": "https://localhost:8080/",
     "height": 489
    },
    "colab_type": "code",
    "id": "YXWjOWc4_75J",
    "outputId": "6ebaca21-db61-4835-c88c-e37d7dc5a7e7"
   },
   "outputs": [
    {
     "name": "stdout",
     "output_type": "stream",
     "text": [
      "              precision    recall  f1-score   support\n",
      "\n",
      "           ❤       0.71      0.84      0.77     10798\n",
      "           😍       0.27      0.44      0.34      4830\n",
      "           😂       0.31      0.57      0.40      4534\n",
      "           💕       0.24      0.17      0.20      2605\n",
      "           🔥       0.52      0.42      0.47      3716\n",
      "           😊       0.11      0.14      0.13      1613\n",
      "           😎       0.17      0.17      0.17      1996\n",
      "           ✨       0.29      0.20      0.24      2749\n",
      "           💙       0.21      0.09      0.12      1549\n",
      "           😘       0.14      0.12      0.13      1175\n",
      "           📷       0.20      0.22      0.21      1432\n",
      "          🇺🇸       0.62      0.52      0.57      1949\n",
      "           ☀       0.73      0.46      0.56      1265\n",
      "           💜       0.22      0.00      0.00      1114\n",
      "           😉       0.12      0.01      0.02      1306\n",
      "           💯       0.17      0.22      0.19      1244\n",
      "           😁       0.25      0.00      0.00      1153\n",
      "           🎄       0.64      0.72      0.68      1545\n",
      "           📸       0.38      0.17      0.23      2417\n",
      "           😜       0.00      0.00      0.00      1010\n",
      "\n",
      "    accuracy                           0.42     50000\n",
      "   macro avg       0.32      0.27      0.27     50000\n",
      "weighted avg       0.40      0.42      0.39     50000\n",
      "\n"
     ]
    }
   ],
   "source": [
    "print(classification_report(y_true, y_pred, target_names=target_names))"
   ]
  },
  {
   "cell_type": "markdown",
   "metadata": {
    "colab_type": "text",
    "id": "k6B9E4mq-Thu"
   },
   "source": [
    "## Accuracy plots"
   ]
  },
  {
   "cell_type": "markdown",
   "metadata": {
    "colab_type": "text",
    "id": "zs39mhzWT0_g"
   },
   "source": [
    "Plot training & validation accuracy values"
   ]
  },
  {
   "cell_type": "code",
   "execution_count": 34,
   "metadata": {
    "colab": {
     "base_uri": "https://localhost:8080/",
     "height": 295
    },
    "colab_type": "code",
    "id": "XucUdIgeTzNx",
    "outputId": "c985613d-55b7-4777-c255-d410bbb2e749"
   },
   "outputs": [
    {
     "data": {
      "image/png": "[encoded data removed]",
      "text/plain": [
       "<Figure size 432x288 with 1 Axes>"
      ]
     },
     "metadata": {
      "tags": []
     },
     "output_type": "display_data"
    }
   ],
   "source": [
    "plt.plot(history.history['acc'])\n",
    "plt.plot(history.history['val_acc'])\n",
    "plt.title('Model accuracy')\n",
    "plt.ylabel('Accuracy')\n",
    "plt.xlabel('Epoch')\n",
    "plt.legend(['Train', 'Validation'], loc='upper left')"
   ]
  },
  {
   "cell_type": "markdown",
   "metadata": {
    "colab_type": "text",
    "id": "zVBoqHTyT-CI"
   },
   "source": [
    "Plot training & validation loss values"
   ]
  },
  {
   "cell_type": "code",
   "execution_count": null,
   "metadata": {
    "colab": {},
    "colab_type": "code",
    "id": "rWbYq3n0-VNi"
   },
   "outputs": [],
   "source": [
    "plt.plot(history.history['loss'])\n",
    "plt.plot(history.history['val_loss'])\n",
    "plt.title('Model loss')\n",
    "plt.ylabel('Loss')\n",
    "plt.xlabel('Epoch')\n",
    "plt.legend(['Train', 'Validation'], loc='upper left')"
   ]
  },
  {
   "cell_type": "markdown",
   "metadata": {
    "colab_type": "text",
    "id": "hRoVBC7sWGn3"
   },
   "source": [
    "## Confusion matrix"
   ]
  },
  {
   "cell_type": "markdown",
   "metadata": {
    "colab_type": "text",
    "id": "fIvUO4j5eZvg"
   },
   "source": [
    "Computing the confusion matrix"
   ]
  },
  {
   "cell_type": "code",
   "execution_count": null,
   "metadata": {
    "colab": {},
    "colab_type": "code",
    "id": "dWv7OnfAWJuH"
   },
   "outputs": [],
   "source": [
    "from sklearn.metrics import confusion_matrix"
   ]
  },
  {
   "cell_type": "code",
   "execution_count": null,
   "metadata": {
    "colab": {},
    "colab_type": "code",
    "id": "wTzDVbrpWYJe"
   },
   "outputs": [],
   "source": [
    "cm = confusion_matrix(y_true, y_pred)\n",
    "cm_norm = cm.astype('float') / cm.sum(axis=1)[:, np.newaxis]"
   ]
  },
  {
   "cell_type": "code",
   "execution_count": null,
   "metadata": {
    "colab": {},
    "colab_type": "code",
    "id": "JomWbmqWfgiw"
   },
   "outputs": [],
   "source": [
    "# classes = ['❤','😍','😂','💕','🔥','😊','😎','✨','💙','😘','📷','🇺🇸','☀','💜','😉','💯','😁','🎄','📸','😜'] # Plotting emojis is not currently suppoter in matplotlib\n",
    "classes = range(1,21)"
   ]
  },
  {
   "cell_type": "markdown",
   "metadata": {
    "colab_type": "text",
    "id": "qTzIfubg7vT8"
   },
   "source": [
    "Plotting the confusion matrix"
   ]
  },
  {
   "cell_type": "code",
   "execution_count": 24,
   "metadata": {
    "colab": {
     "base_uri": "https://localhost:8080/",
     "height": 1149
    },
    "colab_type": "code",
    "id": "GRa-UfATLmyk",
    "outputId": "4982df38-41f2-43f4-e452-1273ac0ae714"
   },
   "outputs": [
    {
     "name": "stdout",
     "output_type": "stream",
     "text": [
      "Requirement already satisfied: matplotlib==3.1.0 in /usr/local/lib/python3.6/dist-packages (3.1.0)\n",
      "Requirement already satisfied: kiwisolver>=1.0.1 in /usr/local/lib/python3.6/dist-packages (from matplotlib==3.1.0) (1.1.0)\n",
      "Requirement already satisfied: pyparsing!=2.0.4,!=2.1.2,!=2.1.6,>=2.0.1 in /usr/local/lib/python3.6/dist-packages (from matplotlib==3.1.0) (2.4.2)\n",
      "Requirement already satisfied: cycler>=0.10 in /usr/local/lib/python3.6/dist-packages (from matplotlib==3.1.0) (0.10.0)\n",
      "Requirement already satisfied: numpy>=1.11 in /usr/local/lib/python3.6/dist-packages (from matplotlib==3.1.0) (1.17.3)\n",
      "Requirement already satisfied: python-dateutil>=2.1 in /usr/local/lib/python3.6/dist-packages (from matplotlib==3.1.0) (2.6.1)\n",
      "Requirement already satisfied: setuptools in /usr/local/lib/python3.6/dist-packages (from kiwisolver>=1.0.1->matplotlib==3.1.0) (41.4.0)\n",
      "Requirement already satisfied: six in /usr/local/lib/python3.6/dist-packages (from cycler>=0.10->matplotlib==3.1.0) (1.12.0)\n"
     ]
    },
    {
     "data": {
      "text/plain": [
       "<matplotlib.axes._subplots.AxesSubplot at 0x7f103bf96588>"
      ]
     },
     "execution_count": 24,
     "metadata": {
      "tags": []
     },
     "output_type": "execute_result"
    },
    {
     "data": {
      "image/png": "[encoded data removed]",
      "text/plain": [
       "<Figure size 1440x1224 with 2 Axes>"
      ]
     },
     "metadata": {
      "tags": []
     },
     "output_type": "display_data"
    }
   ],
   "source": [
    "!pip install matplotlib==3.1.0 # to resolve a bug with the current version of matplotlib\n",
    "import matplotlib.pyplot as plt\n",
    "import seaborn as sn\n",
    "\n",
    "df_cm = pd.DataFrame(cm_norm, index = range(1,21),\n",
    "                  columns = range(1,21))\n",
    "fgr = plt.figure(figsize = (20,17))\n",
    "sn.heatmap(df_cm, annot=True, fmt='.2f', cmap='Blues')"
   ]
  },
  {
   "cell_type": "markdown",
   "metadata": {
    "colab_type": "text",
    "id": "GfbS-MTyIgVo"
   },
   "source": [
    "Saving the plot as an image"
   ]
  },
  {
   "cell_type": "code",
   "execution_count": null,
   "metadata": {
    "colab": {},
    "colab_type": "code",
    "id": "AhXRsWuRIf4m"
   },
   "outputs": [],
   "source": [
    "fgr.savefig('confusion_matrix.png')"
   ]
  },
  {
   "cell_type": "markdown",
   "metadata": {
    "colab_type": "text",
    "id": "b5wPmjkDa8yt"
   },
   "source": [
    "# Prediction"
   ]
  },
  {
   "cell_type": "code",
   "execution_count": null,
   "metadata": {
    "colab": {
     "base_uri": "https://localhost:8080/",
     "height": 69
    },
    "colab_type": "code",
    "id": "Vf5tF_DMmpkH",
    "outputId": "31a0f97e-5d88-455f-f601-0603bdf07f04"
   },
   "outputs": [
    {
     "name": "stdout",
     "output_type": "stream",
     "text": [
      "[    1  2927  1271  6326    29  2927  1925   507   817  6803 24953     1\n",
      "     1     0     0     0     0     0     0     0     0     0     0     0]\n",
      "[[0. 0. 0. 0. 0. 0. 0. 0. 0. 1. 0. 0. 0. 0. 0. 0. 0. 0. 0. 0.]]\n"
     ]
    }
   ],
   "source": [
    "tweet = \"RuPaul's Drag Race bingo fun. Drag Queens be SEXY! #rupaulsdragrace @user abwyman #la…\"\n",
    "label = 9\n",
    "\n",
    "tokens = tokenizer.texts_to_sequences([tweet])\n",
    "x = pad_sequences(tokens, padding='post', maxlen=maxlen)\n",
    "\n",
    "y = np_utils.to_categorical([label], 20)\n",
    "\n",
    "print(x[0])\n",
    "print(y)"
   ]
  },
  {
   "cell_type": "code",
   "execution_count": null,
   "metadata": {
    "colab": {
     "base_uri": "https://localhost:8080/",
     "height": 34
    },
    "colab_type": "code",
    "id": "Qpq_cKBla_TI",
    "outputId": "50401453-66d8-4acc-c973-b786cd128d03"
   },
   "outputs": [
    {
     "name": "stdout",
     "output_type": "stream",
     "text": [
      "2\n"
     ]
    }
   ],
   "source": [
    "prediction = model.predict(x)\n",
    "\n",
    "print(range(1,21)[np.argmax(prediction[0])])"
   ]
  },
  {
   "cell_type": "markdown",
   "metadata": {
    "colab_type": "text",
    "id": "UxHYrUt-UL8U"
   },
   "source": [
    "# Saving the model"
   ]
  },
  {
   "cell_type": "code",
   "execution_count": null,
   "metadata": {
    "colab": {},
    "colab_type": "code",
    "id": "qcoAQ44WUPdH"
   },
   "outputs": [],
   "source": [
    "model.save('/content/drive/My Drive/Projects/Premoji/lstm.h5')"
   ]
  },
  {
   "cell_type": "markdown",
   "metadata": {
    "colab_type": "text",
    "id": "XdrFO-_VSZto"
   },
   "source": [
    "# Loading the model"
   ]
  },
  {
   "cell_type": "code",
   "execution_count": null,
   "metadata": {
    "colab": {},
    "colab_type": "code",
    "id": "-t45DfW3SZVr"
   },
   "outputs": [],
   "source": [
    "from keras.models import load_model"
   ]
  },
  {
   "cell_type": "code",
   "execution_count": null,
   "metadata": {
    "colab": {},
    "colab_type": "code",
    "id": "Wujt3SGJSeMs"
   },
   "outputs": [],
   "source": [
    "model = load_model('/content/drive/My Drive/Projects/Premoji/lstm.h5')"
   ]
  },
  {
   "cell_type": "markdown",
   "metadata": {
    "colab_type": "text",
    "id": "kmUlydcyXbVh"
   },
   "source": [
    "# Model structure"
   ]
  },
  {
   "cell_type": "code",
   "execution_count": 26,
   "metadata": {
    "colab": {
     "base_uri": "https://localhost:8080/",
     "height": 369
    },
    "colab_type": "code",
    "id": "zBmNxjx5Xdy2",
    "outputId": "ec01671d-793d-4a33-b590-72a7d65a4b30"
   },
   "outputs": [
    {
     "data": {
      "image/png": "[encoded data removed]",
      "text/plain": [
       "<IPython.core.display.Image object>"
      ]
     },
     "execution_count": 26,
     "metadata": {
      "tags": []
     },
     "output_type": "execute_result"
    }
   ],
   "source": [
    "from keras.utils import plot_model\n",
    "plot_model(model, to_file='model.png', show_layer_names=False)"
   ]
  }
 ],
 "metadata": {
  "accelerator": "GPU",
  "colab": {
   "machine_shape": "hm",
   "name": "LSTM.ipynb",
   "provenance": [],
   "toc_visible": true
  },
  "kernelspec": {
   "display_name": "Python 3",
   "language": "python",
   "name": "python3"
  },
  "language_info": {
   "codemirror_mode": {
    "name": "ipython",
    "version": 3
   },
   "file_extension": ".py",
   "mimetype": "text/x-python",
   "name": "python",
   "nbconvert_exporter": "python",
   "pygments_lexer": "ipython3",
   "version": "3.6.8"
  }
 },
 "nbformat": 4,
 "nbformat_minor": 4
}
